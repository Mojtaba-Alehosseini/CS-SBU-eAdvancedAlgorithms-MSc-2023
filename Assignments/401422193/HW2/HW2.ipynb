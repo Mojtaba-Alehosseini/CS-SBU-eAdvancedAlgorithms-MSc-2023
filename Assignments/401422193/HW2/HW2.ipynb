{
 "cells": [
  {
   "cell_type": "markdown",
   "id": "0f3330fc",
   "metadata": {},
   "source": [
    "<div dir=\"rtl\" style=\"white-space:pre-wrap\">\n",
    "\n",
    "**به نام یگانه برنامه نویس عالم**<br>\n",
    "الگوریتم های پیشرفته<br>\n",
    "/استاد فراهانی/\n",
    "  \n",
    "# [تمرین 2](https://github.com/Sarach-git/CS-SBU-eAdvancedAlgorithms-MSc-2023/blob/main/Assignments/Homework/Homework_2.pdf)\n",
    "\n",
    "دستیار آموزشی:     سرکار خانم چرمچی<br>\n",
    "کد / نام دانشجو:     401422193 /  معین ورکیانی\n",
    "\n",
    "</div>"
   ]
  },
  {
   "cell_type": "markdown",
   "id": "07d06c84",
   "metadata": {},
   "source": [
    "<div dir=\"rtl\" style=\"white-space:pre-wrap\">\n",
    "\n",
    "## سوال 1\n",
    "\n",
    "### 1.1\n",
    "\n",
    "در رویکرد غیر هوشمندانه، ما نیاز به بررسی تمامی حالت های ممکن داریم؛ در نتیجه با توجه به اینکه تعداد انتخاب ها (نوبت ها) برابر با تعداد مهره ها است و در هر نوبت هر شخص دو گزینه متفاوت دارد و در مجموع 4 حالت ممکن ست پیش بیاید، نیازمند فراخوانی بازگشتی خواهیم بود تا پاسخ هر شیوه انتخاب مهره ها را محاسبه کرده و ذخیره کنیم. در نهایت با جستجو بر روی مقادیر پاسخ ها، بهترین پاسخ را میابیم.\n",
    "با توجه به اینکه در هر نوبت دو حالت برای انتخاب وجود دارد، پیچیدگی زمانی الگوریتم از مرتبه $O(2^n)$ خواهد بود.\n",
    "    \n",
    "### 1.2\n",
    "\n",
    "با توجه به اینکه هر بازیکن در نوبت خود به صورت بهینه باید انتخاب کند، حریف هموار انتخاب هایی خواهد کرد که در نوبت ما، حداقل امتیاز را کسب کنیم.<br>\n",
    "دو انتخاب وجود دارد:\n",
    "   \n",
    "1. کاربر سکه `i`ام را با مقدار $V_i$ انتخاب می کند: حریف یا `(i+1)`مین سکه یا سکه `j`ام را انتخاب می کند. حریف قصد دارد سکه ای را انتخاب کند که حداقل ارزش را برای کاربر باقی می گذارد. به عنوان مثال، کاربر می تواند مقدار $V_i + min (F(i+2, j), F(i+1, j-1))$ را جمع آوری کند که در آن `[i+2,j]` ایندکس آرایه در دسترس کاربر است اگر حریف $V_{i+1}$ را انتخاب می کند و `[i+1,j-1]` محدوده ایندکس‌های آرایه در دسترس است اگر حریف سکه `j`ام را انتخاب کند.\n",
    "2. کاربر سکه `j`ام را با مقدار $V_j$ انتخاب می کند: حریف یا سکه `i`ام یا `j-1`ام را انتخاب می کند. حریف قصد دارد سکه‌ای را انتخاب کند که حداقل مقدار را برای کاربر باقی می‌گذارد، یعنی کاربر می‌تواند مقدار $V_j + min(F(i+1, j-1), F(i, j-2))$ را در جایی جمع‌آوری کند که `[i,j-2]`محدوده ایندکس‌های آرایه‌ای است که در صورتی که حریف سکه `j`ام را انتخاب کند برای کاربر در دسترس است و `[i+1,j-1]`محدوده ایندکس‌هایی است که در صورتی که حریف سکه `i`ام را انتخاب کند در دسترس کاربر است.\n",
    "    \n",
    "    از آنجایی که همان زیر-مسائل مجددا فراخوانی می شوند، این مشکل دارای ویژگی همپوشانی زیر-مسائل است. بنابراین می توان با ساختن یک آرایه موقت در برنامه نویسی پویا به روش پایین به بالا با استفاده از فرمول بازگشتی زیر از محاسبات مجدد همان مسائل فرعی اجتناب کرد.\n",
    "\n",
    "### 1.3\n",
    "\n",
    "الگوریتم با پر کردن یک جدول با پاسخ های بهینه برای مسائل فرعی کوچکتر کار می کند. به عنوان مثال، اگر روی زیرآرایه ای کار می کنیم که فقط یک مهره دارد، پاسخ بهینه امتیاز آن مهره است. اگر روی زیرآرایه ای کار می کنیم که دو مهره دارد، پاسخ بهینه، حداکثر مقدار دو مهره است. ما زیرآرایه ها را گسترش می دهیم و از نتایج مسائل فرعی کوچکتر برای ساختن پاسخ بهینه برای مسائل فرعی بزرگتر استفاده می کنیم. در نهایت، پاسخ بهینه برای کل آرایه (`n*n`) در سطر اول و آخرین ستون جدول ذخیره می شود.\n",
    "در نتیجه پیچیدگی زمانی این الگورتم از مرتبه $O(n^2)$ خواهد بود.\n",
    "\n",
    "    \n",
    "### **1.4 پیاده سازی در پایتون**\n",
    "\n",
    "</div>"
   ]
  },
  {
   "cell_type": "code",
   "execution_count": 21,
   "id": "2b450b4c",
   "metadata": {},
   "outputs": [
    {
     "name": "stdout",
     "output_type": "stream",
     "text": [
      "10 80 90 30\n",
      "110 RRRR\n"
     ]
    }
   ],
   "source": [
    "#Function to find the maximum possible score we can win.\n",
    "class Solution:\n",
    "  def GamePlan(self,arr, n):\n",
    "    temp=[[0 for i in range(n)]for j in range(n)]\n",
    "    moves=[[\"\" for i in range(n)]for j in range(n)]\n",
    "    def solve(ind1,ind2):\n",
    "        if ind1>ind2:\n",
    "            return 0, \"\"\n",
    "        if (temp[ind1][ind2]!=-1)&(moves[ind1][ind2]!=\"\"):\n",
    "            return temp[ind1][ind2],moves[ind1][ind2]\n",
    "        if ind1==ind2:\n",
    "            moves[ind1][ind2]+=\"L\" if ind1<=(n-1)//2 else \"R\"\n",
    "            return arr[ind1],moves[ind1][ind2]\n",
    "        take_start=arr[ind1]\n",
    "        score1, move11=solve(ind1+2,ind2)\n",
    "        score2, move12=solve(ind1+1,ind2-1)\n",
    "        if score1+arr[ind1]>score2+arr[ind2]:\n",
    "            take_start+=score2\n",
    "            move11=f\"R{move12}\"\n",
    "        else:\n",
    "            take_start+=score1\n",
    "            move11=f\"L{move11}\"\n",
    "        take_last=arr[ind2]\n",
    "        score1, move21=solve(ind1+1,ind2-1)\n",
    "        score2, move22=solve(ind1,ind2-2)\n",
    "        if score1+arr[ind2]>score2+arr[ind1]:\n",
    "            take_last+=score2\n",
    "            move21=f\"R{move22}\"\n",
    "        else:\n",
    "            take_last+=score1\n",
    "            move21=f\"L{move21}\"\n",
    "            \n",
    "        if take_start>take_last:\n",
    "            ans= take_start\n",
    "            moves[ind1][ind2]=f\"L{move11}\"\n",
    "        else:\n",
    "            ans=take_last\n",
    "            moves[ind1][ind2]=f\"R{move21}\"\n",
    "        temp[ind1][ind2]=ans\n",
    "        return ans, moves[ind1][ind2]    \n",
    "    res,moves = solve(0,n-1)\n",
    "    return res,moves\n",
    "\n",
    "def main():\n",
    "    beads = list(map(int, input().split()))\n",
    "    ans=Solution()\n",
    "    score, moves=ans.GamePlan(beads,len(beads))\n",
    "    print(score, moves)\n",
    "    \n",
    "if __name__ == \"__main__\":\n",
    "    main()"
   ]
  },
  {
   "cell_type": "markdown",
   "id": "dd9e5a17",
   "metadata": {},
   "source": []
  },
  {
   "cell_type": "code",
   "execution_count": null,
   "id": "7e585a2c",
   "metadata": {},
   "outputs": [],
   "source": []
  }
 ],
 "metadata": {
  "kernelspec": {
   "display_name": "Python 3 (ipykernel)",
   "language": "python",
   "name": "python3"
  },
  "language_info": {
   "codemirror_mode": {
    "name": "ipython",
    "version": 3
   },
   "file_extension": ".py",
   "mimetype": "text/x-python",
   "name": "python",
   "nbconvert_exporter": "python",
   "pygments_lexer": "ipython3",
   "version": "3.11.3"
  }
 },
 "nbformat": 4,
 "nbformat_minor": 5
}
