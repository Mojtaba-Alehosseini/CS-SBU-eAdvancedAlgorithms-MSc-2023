{
  "nbformat": 4,
  "nbformat_minor": 0,
  "metadata": {
    "colab": {
      "provenance": [],
      "authorship_tag": "ABX9TyMxIq6br7pjw+ZSapjjLOBM",
      "include_colab_link": true
    },
    "kernelspec": {
      "name": "python3",
      "display_name": "Python 3"
    },
    "language_info": {
      "name": "python"
    }
  },
  "cells": [
    {
      "cell_type": "markdown",
      "metadata": {
        "id": "view-in-github",
        "colab_type": "text"
      },
      "source": [
        "<a href=\"https://colab.research.google.com/github/Mojtaba-Alehosseini/CS-SBU-eAdvancedAlgorithms-MSc-2023/blob/401422018/Assignments/Homework/401422018/Project/Project.ipynb\" target=\"_parent\"><img src=\"https://colab.research.google.com/assets/colab-badge.svg\" alt=\"Open In Colab\"/></a>"
      ]
    },
    {
      "cell_type": "markdown",
      "source": [],
      "metadata": {
        "id": "qO1giyJmZ29y"
      }
    },
    {
      "cell_type": "code",
      "execution_count": 2,
      "metadata": {
        "colab": {
          "base_uri": "https://localhost:8080/"
        },
        "id": "GVOPMdnFSiH5",
        "outputId": "6dd1edb0-a009-4894-a882-7a26905c7cdf"
      },
      "outputs": [
        {
          "output_type": "stream",
          "name": "stdout",
          "text": [
            "Collecting pulp\n",
            "  Downloading PuLP-2.7.0-py3-none-any.whl (14.3 MB)\n",
            "\u001b[2K     \u001b[90m━━━━━━━━━━━━━━━━━━━━━━━━━━━━━━━━━━━━━━━━\u001b[0m \u001b[32m14.3/14.3 MB\u001b[0m \u001b[31m76.4 MB/s\u001b[0m eta \u001b[36m0:00:00\u001b[0m\n",
            "\u001b[?25hInstalling collected packages: pulp\n",
            "Successfully installed pulp-2.7.0\n"
          ]
        }
      ],
      "source": [
        "!pip install pulp"
      ]
    },
    {
      "cell_type": "code",
      "execution_count": 3,
      "metadata": {
        "id": "relevant-boundary"
      },
      "outputs": [],
      "source": [
        "import numpy as np\n",
        "from pulp import *\n",
        "import pandas as pd"
      ]
    },
    {
      "cell_type": "code",
      "source": [
        "# Read the foods.csv file using pandas\n",
        "df = pd.read_csv('foods.csv')\n",
        "foods_data = df.to_dict(orient='records')\n",
        "\n",
        "# Create the Foods dictionary\n",
        "Foods = {food['Food']:{key: food[key] for key in ['Cals', 'Carbs', 'Fat', 'Protein', 'VitaminB12', 'Iron', 'Calcium', 'Potassium', 'Na', 'Time', 'Cost']} for food in foods_data}\n",
        "\n",
        "# Map the variable names to food names\n",
        "food_names = df['Food'].tolist()\n",
        "VarToFood = {f'x_{i}': food for i, food in enumerate(food_names)}\n"
      ],
      "metadata": {
        "id": "Wbtu0DKLSSFn"
      },
      "execution_count": 9,
      "outputs": []
    },
    {
      "cell_type": "markdown",
      "source": [
        "At first I defines a function called `DailyNeeds` that calculates daily calorie needs and macronutrient distribution based on gender, age, weight, height, activity level, and goal.\n",
        "\n",
        "Here's a breakdown of what the code does:\n",
        "\n",
        "1. The function `DailyNeeds` takes six parameters: `gender`, `age`, `weight`, `height`, `activity`, and `goal`.\n",
        "\n",
        "2. It assigns an activity factor based on the provided `activity` parameter. The activity factor represents the level of physical activity and is used to calculate the daily calorie needs. The possible activity levels are: \"sedentary\", \"lightly active\", \"moderately active\", \"very active\", and \"extra active\". The corresponding activity factors are 1.2, 1.375, 1.55, 1.725, and 1.9, respectively.\n",
        "\n",
        "3. It checks the `gender` parameter to determine the formula for calculating calories. If the gender is male (`'m'`, `'male'`, or `'man'`), it uses the formula `(10 * weight + 6.25 * height - 5 * age + 5) * activity_factor`. If the gender is female (`'f'`, `'female'`, `'woman'`, or `'w'`), it uses the formula `(10 * weight + 6.25 * height - 5 * age - 161) * activity_factor`.\n",
        "\n",
        "4. It checks the `goal` parameter to determine the macronutrient distribution. If the goal is to \"LoseFat\", it calculates a new calorie value as 85% of the original calories. The macronutrient distribution is set to 30% carbohydrates, 30% fat, and 40% protein of the new calorie value. If the goal is to \"GainMuscle\", it calculates a new calorie value as 115% of the original calories. The macronutrient distribution is set to 40% carbohydrates, 30% fat, and 30% protein of the new calorie value. If the goal is to \"Preserve\" (maintain current weight), the new calorie value remains the same as the original calories. The macronutrient distribution is set to 50% carbohydrates, 25% fat, and 25% protein of the original calorie value.\n",
        "\n",
        "5. The function returns the new calorie value, carbohydrates in grams (carbs_c) divided by 4 (since there are 4 calories per gram of carbohydrates), fat in grams (fat_c) divided by 9 (since there are 9 calories per gram of fat), and protein in grams (protein_c) divided by 4 (since there are 4 calories per gram of protein).\n",
        "\n",
        "In summary, the code calculates the daily calorie needs and macronutrient distribution based on the provided parameters, such as gender, age, weight, height, activity level, and goal."
      ],
      "metadata": {
        "id": "HIGMDumqaDhJ"
      }
    },
    {
      "cell_type": "code",
      "execution_count": 4,
      "metadata": {
        "id": "organic-special"
      },
      "outputs": [],
      "source": [
        "def DailyNeeds(gender,age,weight,height,activity,goal):\n",
        "    #Activity: sedentary, lightly active, moderately active, very active, extra active\n",
        "    #Goals:LoseFat,GainMuscle,Preserve\n",
        "    if activity=='sedentary':\n",
        "        activity_factor=1.2\n",
        "    elif activity=='lightly active':\n",
        "        activity_factor=1.375\n",
        "    elif activity=='moderately active':\n",
        "        activity_factor=1.55\n",
        "    elif activity=='very active':\n",
        "        activity_factor=1.725\n",
        "    elif activity=='extra active':\n",
        "        activity_factor=1.9\n",
        "\n",
        "    if gender=='m' or gender == 'male' or gender == 'man':\n",
        "        calories= (10 * weight + 6.25 * height  - 5 * age  + 5)*activity_factor\n",
        "    elif gender=='f' or gender=='female' or gender =='woman' or gender =='w':\n",
        "        calories= (10 * weight + 6.25 * height  - 5 * age  - 161)*activity_factor\n",
        "\n",
        "    if goal=='LoseFat':\n",
        "        new_calories=calories*0.85\n",
        "        carbs_c,fat_c,protein_c=0.30*new_calories,0.30*new_calories,0.40*new_calories\n",
        "    elif goal=='GainMuscle':\n",
        "        new_calories=calories*1.15\n",
        "        carbs_c,fat_c,protein_c=0.40*new_calories,0.30*new_calories,0.30*new_calories\n",
        "    elif goal=='Preserve':\n",
        "        new_calories=calories\n",
        "        carbs_c,fat_c,protein_c=0.5*calories,0.25*calories,0.25*calories\n",
        "    return new_calories,carbs_c/4,fat_c/9,protein_c/4"
      ]
    },
    {
      "cell_type": "markdown",
      "source": [
        "Calculating daily need of calories, carbohydrate, fat and protein based on gender, age, weight, height, activity and goal.\n",
        "\n",
        "Activity: sedentary, lightly active, moderately active, very active, extra active\n",
        "\n",
        "Goals: LoseFat, GainMuscle, Preserve"
      ],
      "metadata": {
        "id": "Xt6_IeW5aUDC"
      }
    },
    {
      "cell_type": "code",
      "execution_count": 6,
      "metadata": {
        "colab": {
          "base_uri": "https://localhost:8080/"
        },
        "id": "authorized-patient",
        "outputId": "d46a1bbf-4002-4c95-eee1-cb37f65b48c6"
      },
      "outputs": [
        {
          "output_type": "stream",
          "name": "stdout",
          "text": [
            "3208.4999999999995 320.84999999999997 106.94999999999999 240.63749999999996\n"
          ]
        }
      ],
      "source": [
        "new_calories,carbs,fat,protein =DailyNeeds('m',22,78,180,'moderately active','GainMuscle')\n",
        "print(new_calories,carbs,fat,protein)"
      ]
    },
    {
      "cell_type": "markdown",
      "source": [
        "Variables:\n",
        "\n",
        "minB12, minI, maxI, minCa, maxCa, minK, maxK, minNa, maxNa, k: These variables store numerical values used in the code. Their purpose will become clear as we go through the code.\n",
        "\n",
        "c1, c2, Amin, Amax: These variables are empty lists that will be populated with data from the 'Foods' dictionary.\n",
        "\n",
        "bmin, bmax: These lists are initialized with some values. Their purpose will also become clear later.\n",
        "\n",
        "keysmin, keysmax: These lists store specific keys that will be used to access data in the 'Foods' dictionary.\n",
        "\n",
        "Code Execution:\n",
        "1. Iterating over each key in the 'Foods' dictionary, the code appends the 'Cost' value of each food to the list 'c1' and the 'Time' value to the list 'c2'. This suggests that the 'Foods' dictionary contains information about various food items, and the code is collecting their cost and time values.\n",
        "\n",
        "2. The code then performs two similar iterations over the 'keysmin' and 'keysmax' lists, which contain specific keys to access data in the 'Foods' dictionary. For each key, the code creates an empty list called 'row' and then iterates over each key in the 'Foods' dictionary. In each iteration, it appends the corresponding value"
      ],
      "metadata": {
        "id": "3KL9ZMxvadTZ"
      }
    },
    {
      "cell_type": "code",
      "execution_count": 7,
      "metadata": {
        "id": "precise-console"
      },
      "outputs": [],
      "source": [
        "minB12,minI,maxI,minCa,maxCa,minK,maxK,minNa,maxNa,k=2.4,18,45,1200,2500,2000,4700,500,2300,40\n",
        "c1,c2,Amin,Amax=[],[],[],[]\n",
        "bmin=[new_calories,carbs,fat,protein,minB12,minI,minCa,minK,minNa]\n",
        "bmax=[new_calories+k,maxI,maxCa,maxK,maxNa]\n",
        "\n",
        "keysmin=['Cals','Carbs','Fat','Protein','VitaminB12','Iron','Calcium','Potassium','Na']\n",
        "keysmax=['Cals','Iron','Calcium','Potassium','Na']\n",
        "for key in Foods:\n",
        "    c1.append(Foods[key]['Cost'])\n",
        "    c2.append(Foods[key]['Time'])\n",
        "for i in keysmin:\n",
        "    row=[]\n",
        "    for key in Foods:\n",
        "        row.append(Foods[key][i])\n",
        "    Amin.append(row)\n",
        "for i in keysmax:\n",
        "    row=[]\n",
        "    for key in Foods:\n",
        "        row.append(Foods[key][i])\n",
        "    Amax.append(row)"
      ]
    },
    {
      "cell_type": "markdown",
      "source": [
        "Now solves a linear programming problem with multiple objectives and constraints. It performs multiple iterations to find the best solutions.\n",
        "\n",
        "1. A new linear programming problem named \"DietPlanTime\" is created with the objective of minimizing a certain quantity related to time. The problem is represented by the variable `prob`.\n",
        "\n",
        "2. The variable `COLS` is defined as a range representing the number of columns in the matrix `Amin`.\n",
        "\n",
        "3. Decision variables are created using `LpVariable.dicts()`. The variables 'x' and 'x_chosen' are created with the same indices as `COLS`. 'x' variables are continuous with a lower bound of 0, while 'x_chosen' variables are binary (0 or 1) with a lower bound of 0 and an upper bound of 1.\n",
        "\n",
        "4. The objective function is defined as `prob += lpSum(c1[j] * x[j] for j in COLS), \"obj\"`. It aims to minimize the sum of the product of `c1` and `x` variables.\n",
        "\n",
        "5. Constraints are added to the problem using two for loops. The first loop iterates over the rows of the matrix `Amin` and adds constraints to ensure that the sum of the product of `Amin` and `x` variables is greater than or equal to `bmin[i]`. The constraint names are created using `keysmin[i]+'min'`.\n",
        "\n",
        "6. The second loop iterates over the rows of the matrix `Amax` and adds constraints to ensure that the sum of the product of `Amax` and `x` variables is less than or equal to `bmax[i]`. The constraint names are created using `keysmax[i]+'max'`.\n",
        "\n",
        "7. Additional constraints are set on specific variables using the `prob +=` syntax. For each variable `x[i]`, there are two constraints that link it to the corresponding `x_chosen[i]` variable. These constraints enforce a relationship where `x[i]` is greater than or equal to `x_chosen[i] * 0.50` and `x[i]` is less than or equal to `x_chosen[i] * 1e5`.\n",
        "\n",
        "8. Another constraint is added using `prob += lpSum(x_chosen[j] for j in COLS) >= 6, 'Numberofdifferentfoods'`. This constraint ensures that at least 6 different food items are chosen.\n",
        "\n",
        "9. Certain variables (`x[0]`, `x[6]`, `x[7]`, `x[15]`, `x[16]`, `x[17]`, `x[19]`) are assigned the category of 'Integer' instead of 'Continuous'. This means that these variables must take integer values in the solution.\n",
        "\n",
        "10. The code then performs multiple iterations to find the best solutions. For each iteration:\n",
        "    - The linear programming problem is solved using `prob.solve()`.\n",
        "    - The status of the problem is printed using `LpStatus[prob.status]`.\n",
        "    - The optimal values of the variables are printed. If a variable's value is greater than 0, it prints the food item name and its corresponding portion value.\n",
        "    - The optimal values of the variables are stored in the `BestSolutions` list.\n",
        "    - The upper bound of each variable is adjusted based on its current value to prevent the same solution from being found again in subsequent iterations.\n",
        "    - An empty line is printed to separate the iterations.\n",
        "\n",
        "11. After the iterations, the best solutions are stored in the `BestSolutions` list, which contains dictionaries representing the chosen food items and their portion values.\n",
        "\n",
        "Note: The specific values\n",
        "\n",
        " and meanings of variables like `Amin`, `bmin`, `c1`, `keysmin`, etc., are not provided in the given code snippet."
      ],
      "metadata": {
        "id": "bhIEX8rVak0x"
      }
    },
    {
      "cell_type": "code",
      "source": [
        "prob = LpProblem(\"DietPlanTime\", LpMinimize)\n",
        "COLS = range(len(Amin[0]))\n",
        "\n",
        "# decision variables are created\n",
        "x = LpVariable.dicts('x', COLS, lowBound=0, cat='Continuous')\n",
        "x_chosen = LpVariable.dicts(\"Chosen\", COLS, 0, 1, cat='Integer')\n",
        "\n",
        "# objective function (only considering c2)\n",
        "prob += lpSum(c1[j] * x[j] for j in COLS), \"obj\"\n",
        "\n",
        "# Constraints\n",
        "for i in range(len(Amin)):\n",
        "    prob += lpSum(Amin[i][j] * x[j] for j in COLS) >= bmin[i], keysmin[i] + 'min'\n",
        "\n",
        "for i in range(len(Amax)):\n",
        "    prob += lpSum(Amax[i][j] * x[j] for j in COLS) <= bmax[i], keysmax[i] + 'max'\n",
        "\n",
        "for i in COLS:\n",
        "    prob += x[i] >= x_chosen[i] * 0.50, 'chooseconstraintg' + str(i)\n",
        "    prob += x[i] <= x_chosen[i] * 1e5, 'chooseconstraintl' + str(i)\n",
        "\n",
        "prob += lpSum(x_chosen[j] for j in COLS) >= 6, 'Numberofdifferentfoods'\n",
        "\n",
        "x[0].cat = 'Integer'\n",
        "x[6].cat = 'Integer'\n",
        "x[7].cat = 'Integer'\n",
        "x[15].cat = 'Integer'\n",
        "x[16].cat = 'Integer'\n",
        "x[17].cat = 'Integer'\n",
        "x[19].cat = 'Integer'\n",
        "\n",
        "BestSolutions = []\n",
        "for i in range(7):\n",
        "    prob.solve()\n",
        "    Solution = []\n",
        "    print(\"Status:\", LpStatus[prob.status])\n",
        "\n",
        "    # Optimal variables values\n",
        "    for v in prob.variables():\n",
        "        if v.name[0] != 'C':\n",
        "            if v.varValue > 0:\n",
        "                print(f'{VarToFood[v.name]} = {v.varValue:5.2f} portions')\n",
        "                Solution.append({VarToFood[v.name]: v.varValue})\n",
        "    BestSolutions.append(Solution)\n",
        "\n",
        "    for v in prob.variables():\n",
        "        if v.name[0] != 'C':\n",
        "            if v.varValue > 0:\n",
        "                v.upBound = v.varValue - 0.000003 * v.varValue\n",
        "\n",
        "    print('\\n')"
      ],
      "metadata": {
        "colab": {
          "base_uri": "https://localhost:8080/"
        },
        "id": "F8xQB8AHEmy6",
        "outputId": "fe5b4831-352b-41ed-9eeb-d78adcb88882"
      },
      "execution_count": 8,
      "outputs": [
        {
          "output_type": "stream",
          "name": "stdout",
          "text": [
            "Status: Optimal\n",
            "Milk1.7% =  2.31 portions\n",
            "Pork =  1.34 portions\n",
            "Spaghetti =  1.35 portions\n",
            "Bread =  1.00 portions\n",
            "Beans =  3.00 portions\n",
            "Chicken =  3.09 portions\n",
            "\n",
            "\n",
            "Status: Optimal\n",
            "Milk1.7% =  2.17 portions\n",
            "Pork =  1.13 portions\n",
            "Spaghetti =  1.31 portions\n",
            "Beans =  3.00 portions\n",
            "Potatoes =  0.50 portions\n",
            "Yoghurt5% =  0.50 portions\n",
            "Chicken =  3.07 portions\n",
            "\n",
            "\n",
            "Status: Optimal\n",
            "Milk1.7% =  2.17 portions\n",
            "Pork =  0.95 portions\n",
            "Fish =  0.50 portions\n",
            "Spaghetti =  1.31 portions\n",
            "Bread =  1.00 portions\n",
            "Beans =  3.00 portions\n",
            "Brocoli =  0.61 portions\n",
            "Chicken =  3.04 portions\n",
            "\n",
            "\n",
            "Status: Optimal\n",
            "Milk1.7% =  2.17 portions\n",
            "Pork =  0.95 portions\n",
            "Spaghetti =  0.88 portions\n",
            "Bread =  1.00 portions\n",
            "Beans =  3.00 portions\n",
            "Brocoli =  0.58 portions\n",
            "Orange =  2.00 portions\n",
            "Chicken =  3.04 portions\n",
            "Beef =  0.55 portions\n",
            "\n",
            "\n",
            "Status: Optimal\n",
            "Eggs =  4.00 portions\n",
            "Milk1.7% =  2.17 portions\n",
            "Pork =  0.95 portions\n",
            "Spaghetti =  0.88 portions\n",
            "Rice =  1.24 portions\n",
            "Bread =  1.00 portions\n",
            "Beans =  2.00 portions\n",
            "Cereal =  0.95 portions\n",
            "Orange =  1.00 portions\n",
            "Chicken =  3.01 portions\n",
            "\n",
            "\n",
            "Status: Optimal\n",
            "Eggs =  3.00 portions\n",
            "Milk1.7% =  2.17 portions\n",
            "Pork =  0.95 portions\n",
            "Spaghetti =  0.88 portions\n",
            "Rice =  1.24 portions\n",
            "Bread =  1.00 portions\n",
            "Beans =  2.00 portions\n",
            "Cereal =  0.55 portions\n",
            "Apple =  1.00 portions\n",
            "Orange =  1.00 portions\n",
            "Chicken =  2.93 portions\n",
            "Beef =  0.51 portions\n",
            "\n",
            "\n",
            "Status: Optimal\n",
            "Eggs =  3.00 portions\n",
            "Milk1.7% =  2.17 portions\n",
            "Pork =  0.95 portions\n",
            "Spaghetti =  0.88 portions\n",
            "Rice =  1.13 portions\n",
            "Bread =  1.00 portions\n",
            "Beans =  2.00 portions\n",
            "Cereal =  0.55 portions\n",
            "Brocoli =  0.50 portions\n",
            "Apple =  1.00 portions\n",
            "Orange =  1.00 portions\n",
            "Chicken =  2.89 portions\n",
            "Beef =  0.51 portions\n",
            "\n",
            "\n"
          ]
        }
      ]
    },
    {
      "cell_type": "markdown",
      "source": [
        "This code will create a bar graph showing the food names on the x-axis and the corresponding optimal portion values on the y-axis."
      ],
      "metadata": {
        "id": "0MncRPx5fK5s"
      }
    },
    {
      "cell_type": "code",
      "source": [
        "import matplotlib.pyplot as plt"
      ],
      "metadata": {
        "id": "qK6DXE_jec-b"
      },
      "execution_count": 10,
      "outputs": []
    },
    {
      "cell_type": "code",
      "source": [
        "# Extract the food names and portion values from the solution\n",
        "food_names = [list(solution.keys())[0] for solution in Solution]\n",
        "portions = [list(solution.values())[0] for solution in Solution]\n",
        "\n",
        "# Create a bar graph\n",
        "plt.bar(food_names, portions)\n",
        "plt.xlabel('Food')\n",
        "plt.ylabel('Portion')\n",
        "plt.title('Optimal Portions of Food Items')\n",
        "plt.xticks(rotation=90)\n",
        "\n",
        "# Display the graph\n",
        "plt.show()\n"
      ],
      "metadata": {
        "colab": {
          "base_uri": "https://localhost:8080/",
          "height": 525
        },
        "id": "pPUp7whBed7D",
        "outputId": "57b6a4aa-59ef-476c-d1ae-54d2cce68e64"
      },
      "execution_count": 11,
      "outputs": [
        {
          "output_type": "display_data",
          "data": {
            "text/plain": [
              "<Figure size 640x480 with 1 Axes>"
            ],
            "image/png": "[encoded data removed]"
          },
          "metadata": {}
        }
      ]
    }
  ]
}